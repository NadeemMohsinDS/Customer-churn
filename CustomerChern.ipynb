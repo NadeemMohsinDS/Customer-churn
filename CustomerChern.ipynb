{
 "cells": [
  {
   "cell_type": "code",
   "execution_count": 33,
   "metadata": {
    "metadata": {}
   },
   "outputs": [],
   "source": [
    "import numpy as np \n",
    "import pandas as pd"
   ]
  },
  {
   "cell_type": "code",
   "execution_count": 34,
   "metadata": {
    "metadata": {}
   },
   "outputs": [
    {
     "name": "stdout",
     "output_type": "stream",
     "text": [
      "Number of datapoints: 10000\n"
     ]
    },
    {
     "data": {
      "text/html": [
       "<div>\n",
       "<style scoped>\n",
       "    .dataframe tbody tr th:only-of-type {\n",
       "        vertical-align: middle;\n",
       "    }\n",
       "\n",
       "    .dataframe tbody tr th {\n",
       "        vertical-align: top;\n",
       "    }\n",
       "\n",
       "    .dataframe thead th {\n",
       "        text-align: right;\n",
       "    }\n",
       "</style>\n",
       "<table border=\"1\" class=\"dataframe\">\n",
       "  <thead>\n",
       "    <tr style=\"text-align: right;\">\n",
       "      <th></th>\n",
       "      <th>RowNumber</th>\n",
       "      <th>CustomerId</th>\n",
       "      <th>Surname</th>\n",
       "      <th>CreditScore</th>\n",
       "      <th>Geography</th>\n",
       "      <th>Gender</th>\n",
       "      <th>Age</th>\n",
       "      <th>Tenure</th>\n",
       "      <th>Balance</th>\n",
       "      <th>NumOfProducts</th>\n",
       "      <th>HasCrCard</th>\n",
       "      <th>IsActiveMember</th>\n",
       "      <th>EstimatedSalary</th>\n",
       "      <th>Exited</th>\n",
       "    </tr>\n",
       "  </thead>\n",
       "  <tbody>\n",
       "    <tr>\n",
       "      <th>0</th>\n",
       "      <td>1</td>\n",
       "      <td>15634602</td>\n",
       "      <td>Hargrave</td>\n",
       "      <td>619</td>\n",
       "      <td>France</td>\n",
       "      <td>Female</td>\n",
       "      <td>42</td>\n",
       "      <td>2</td>\n",
       "      <td>0.00</td>\n",
       "      <td>1</td>\n",
       "      <td>1</td>\n",
       "      <td>1</td>\n",
       "      <td>101348.88</td>\n",
       "      <td>1</td>\n",
       "    </tr>\n",
       "    <tr>\n",
       "      <th>1</th>\n",
       "      <td>2</td>\n",
       "      <td>15647311</td>\n",
       "      <td>Hill</td>\n",
       "      <td>608</td>\n",
       "      <td>Spain</td>\n",
       "      <td>Female</td>\n",
       "      <td>41</td>\n",
       "      <td>1</td>\n",
       "      <td>83807.86</td>\n",
       "      <td>1</td>\n",
       "      <td>0</td>\n",
       "      <td>1</td>\n",
       "      <td>112542.58</td>\n",
       "      <td>0</td>\n",
       "    </tr>\n",
       "    <tr>\n",
       "      <th>2</th>\n",
       "      <td>3</td>\n",
       "      <td>15619304</td>\n",
       "      <td>Onio</td>\n",
       "      <td>502</td>\n",
       "      <td>France</td>\n",
       "      <td>Female</td>\n",
       "      <td>42</td>\n",
       "      <td>8</td>\n",
       "      <td>159660.80</td>\n",
       "      <td>3</td>\n",
       "      <td>1</td>\n",
       "      <td>0</td>\n",
       "      <td>113931.57</td>\n",
       "      <td>1</td>\n",
       "    </tr>\n",
       "    <tr>\n",
       "      <th>3</th>\n",
       "      <td>4</td>\n",
       "      <td>15701354</td>\n",
       "      <td>Boni</td>\n",
       "      <td>699</td>\n",
       "      <td>France</td>\n",
       "      <td>Female</td>\n",
       "      <td>39</td>\n",
       "      <td>1</td>\n",
       "      <td>0.00</td>\n",
       "      <td>2</td>\n",
       "      <td>0</td>\n",
       "      <td>0</td>\n",
       "      <td>93826.63</td>\n",
       "      <td>0</td>\n",
       "    </tr>\n",
       "    <tr>\n",
       "      <th>4</th>\n",
       "      <td>5</td>\n",
       "      <td>15737888</td>\n",
       "      <td>Mitchell</td>\n",
       "      <td>850</td>\n",
       "      <td>Spain</td>\n",
       "      <td>Female</td>\n",
       "      <td>43</td>\n",
       "      <td>2</td>\n",
       "      <td>125510.82</td>\n",
       "      <td>1</td>\n",
       "      <td>1</td>\n",
       "      <td>1</td>\n",
       "      <td>79084.10</td>\n",
       "      <td>0</td>\n",
       "    </tr>\n",
       "  </tbody>\n",
       "</table>\n",
       "</div>"
      ],
      "text/plain": [
       "   RowNumber  CustomerId   Surname  CreditScore Geography  Gender  Age  \\\n",
       "0          1    15634602  Hargrave          619    France  Female   42   \n",
       "1          2    15647311      Hill          608     Spain  Female   41   \n",
       "2          3    15619304      Onio          502    France  Female   42   \n",
       "3          4    15701354      Boni          699    France  Female   39   \n",
       "4          5    15737888  Mitchell          850     Spain  Female   43   \n",
       "\n",
       "   Tenure    Balance  NumOfProducts  HasCrCard  IsActiveMember  \\\n",
       "0       2       0.00              1          1               1   \n",
       "1       1   83807.86              1          0               1   \n",
       "2       8  159660.80              3          1               0   \n",
       "3       1       0.00              2          0               0   \n",
       "4       2  125510.82              1          1               1   \n",
       "\n",
       "   EstimatedSalary  Exited  \n",
       "0        101348.88       1  \n",
       "1        112542.58       0  \n",
       "2        113931.57       1  \n",
       "3         93826.63       0  \n",
       "4         79084.10       0  "
      ]
     },
     "execution_count": 34,
     "metadata": {},
     "output_type": "execute_result"
    }
   ],
   "source": [
    "#Loading the dataset\n",
    "df = pd.read_csv('Churn_Modelling.csv')\n",
    "print(\"Number of datapoints:\", len(data))\n",
    "df.head()"
   ]
  },
  {
   "cell_type": "code",
   "execution_count": 35,
   "metadata": {
    "metadata": {}
   },
   "outputs": [
    {
     "name": "stdout",
     "output_type": "stream",
     "text": [
      "<class 'pandas.core.frame.DataFrame'>\n",
      "RangeIndex: 10000 entries, 0 to 9999\n",
      "Data columns (total 14 columns):\n",
      " #   Column           Non-Null Count  Dtype  \n",
      "---  ------           --------------  -----  \n",
      " 0   RowNumber        10000 non-null  int64  \n",
      " 1   CustomerId       10000 non-null  int64  \n",
      " 2   Surname          10000 non-null  object \n",
      " 3   CreditScore      10000 non-null  int64  \n",
      " 4   Geography        10000 non-null  object \n",
      " 5   Gender           10000 non-null  object \n",
      " 6   Age              10000 non-null  int64  \n",
      " 7   Tenure           10000 non-null  int64  \n",
      " 8   Balance          10000 non-null  float64\n",
      " 9   NumOfProducts    10000 non-null  int64  \n",
      " 10  HasCrCard        10000 non-null  int64  \n",
      " 11  IsActiveMember   10000 non-null  int64  \n",
      " 12  EstimatedSalary  10000 non-null  float64\n",
      " 13  Exited           10000 non-null  int64  \n",
      "dtypes: float64(2), int64(9), object(3)\n",
      "memory usage: 1.1+ MB\n"
     ]
    }
   ],
   "source": [
    "df.info()"
   ]
  },
  {
   "cell_type": "code",
   "execution_count": 36,
   "metadata": {
    "metadata": {}
   },
   "outputs": [
    {
     "data": {
      "text/plain": [
       "0    7963\n",
       "1    2037\n",
       "Name: Exited, dtype: int64"
      ]
     },
     "execution_count": 36,
     "metadata": {},
     "output_type": "execute_result"
    }
   ],
   "source": [
    "df['Exited'].value_counts()"
   ]
  },
  {
   "cell_type": "code",
   "execution_count": 37,
   "metadata": {
    "metadata": {}
   },
   "outputs": [],
   "source": [
    "df.drop(columns=['RowNumber','CustomerId','Surname'],inplace=True)"
   ]
  },
  {
   "cell_type": "code",
   "execution_count": 38,
   "metadata": {
    "metadata": {}
   },
   "outputs": [],
   "source": [
    "df=pd.get_dummies(df,columns=['Geography','Gender'], drop_first=True)"
   ]
  },
  {
   "cell_type": "code",
   "execution_count": 39,
   "metadata": {
    "metadata": {}
   },
   "outputs": [],
   "source": [
    "x=df.drop(columns=['Exited'])\n",
    "y=df['Exited']"
   ]
  },
  {
   "cell_type": "code",
   "execution_count": 40,
   "metadata": {
    "metadata": {}
   },
   "outputs": [],
   "source": [
    "from sklearn.model_selection import train_test_split"
   ]
  },
  {
   "cell_type": "code",
   "execution_count": 41,
   "metadata": {
    "metadata": {}
   },
   "outputs": [],
   "source": [
    "x_train,x_test,y_train,y_test=train_test_split(x,y,random_state=1 , test_size=.2)"
   ]
  },
  {
   "cell_type": "code",
   "execution_count": 47,
   "metadata": {
    "metadata": {}
   },
   "outputs": [],
   "source": [
    "from sklearn.preprocessing import StandardScaler\n",
    "scalar=StandardScaler()"
   ]
  },
  {
   "cell_type": "code",
   "execution_count": 43,
   "metadata": {
    "metadata": {}
   },
   "outputs": [
    {
     "name": "stdout",
     "output_type": "stream",
     "text": [
      "<class 'pandas.core.frame.DataFrame'>\n",
      "Int64Index: 8000 entries, 2694 to 235\n",
      "Data columns (total 11 columns):\n",
      " #   Column             Non-Null Count  Dtype  \n",
      "---  ------             --------------  -----  \n",
      " 0   CreditScore        8000 non-null   int64  \n",
      " 1   Age                8000 non-null   int64  \n",
      " 2   Tenure             8000 non-null   int64  \n",
      " 3   Balance            8000 non-null   float64\n",
      " 4   NumOfProducts      8000 non-null   int64  \n",
      " 5   HasCrCard          8000 non-null   int64  \n",
      " 6   IsActiveMember     8000 non-null   int64  \n",
      " 7   EstimatedSalary    8000 non-null   float64\n",
      " 8   Geography_Germany  8000 non-null   uint8  \n",
      " 9   Geography_Spain    8000 non-null   uint8  \n",
      " 10  Gender_Male        8000 non-null   uint8  \n",
      "dtypes: float64(2), int64(6), uint8(3)\n",
      "memory usage: 585.9 KB\n"
     ]
    }
   ],
   "source": [
    "x_train.info()"
   ]
  },
  {
   "cell_type": "code",
   "execution_count": 49,
   "metadata": {
    "metadata": {}
   },
   "outputs": [],
   "source": [
    "x_train_scaled= scalar.fit_transform(x_train)\n",
    "x_test_scaled=scalar.transform(x_test)"
   ]
  },
  {
   "cell_type": "code",
   "execution_count": 51,
   "metadata": {
    "metadata": {}
   },
   "outputs": [
    {
     "name": "stdout",
     "output_type": "stream",
     "text": [
      "Collecting tensorflow\n",
      "  Using cached tensorflow-2.6.2-cp36-cp36m-win_amd64.whl (423.3 MB)\n",
      "Collecting absl-py~=0.10\n",
      "  Using cached absl_py-0.15.0-py3-none-any.whl (132 kB)\n",
      "Collecting six~=1.15.0\n",
      "  Using cached six-1.15.0-py2.py3-none-any.whl (10 kB)\n",
      "Collecting termcolor~=1.1.0\n",
      "  Using cached termcolor-1.1.0-py3-none-any.whl\n",
      "Collecting google-pasta~=0.2\n",
      "  Using cached google_pasta-0.2.0-py3-none-any.whl (57 kB)\n",
      "Collecting opt-einsum~=3.3.0\n",
      "  Using cached opt_einsum-3.3.0-py3-none-any.whl (65 kB)\n",
      "Requirement already satisfied: numpy~=1.19.2 in c:\\users\\nexgen\\anaconda3\\envs\\machinelearning\\lib\\site-packages (from tensorflow) (1.19.5)\n",
      "Collecting tensorboard<2.7,>=2.6.0\n",
      "  Using cached tensorboard-2.6.0-py3-none-any.whl (5.6 MB)\n",
      "Collecting keras<2.7,>=2.6.0\n",
      "  Using cached keras-2.6.0-py2.py3-none-any.whl (1.3 MB)\n",
      "Collecting keras-preprocessing~=1.1.2\n",
      "  Using cached Keras_Preprocessing-1.1.2-py2.py3-none-any.whl (42 kB)\n",
      "Collecting gast==0.4.0\n",
      "  Using cached gast-0.4.0-py3-none-any.whl (9.8 kB)\n",
      "Collecting typing-extensions~=3.7.4\n",
      "  Using cached typing_extensions-3.7.4.3-py3-none-any.whl (22 kB)\n",
      "Collecting flatbuffers~=1.12.0\n",
      "  Using cached flatbuffers-1.12-py2.py3-none-any.whl (15 kB)\n",
      "Collecting astunparse~=1.6.3\n",
      "  Using cached astunparse-1.6.3-py2.py3-none-any.whl (12 kB)\n",
      "Requirement already satisfied: wheel~=0.35 in c:\\users\\nexgen\\anaconda3\\envs\\machinelearning\\lib\\site-packages (from tensorflow) (0.37.1)\n",
      "Collecting grpcio<2.0,>=1.37.0\n",
      "  Using cached grpcio-1.48.2-cp36-cp36m-win_amd64.whl (3.6 MB)\n",
      "Collecting tensorflow-estimator<2.7,>=2.6.0\n",
      "  Using cached tensorflow_estimator-2.6.0-py2.py3-none-any.whl (462 kB)\n",
      "Collecting h5py~=3.1.0\n",
      "  Using cached h5py-3.1.0-cp36-cp36m-win_amd64.whl (2.7 MB)\n",
      "Collecting wrapt~=1.12.1\n",
      "  Using cached wrapt-1.12.1-py3-none-any.whl\n",
      "Note: you may need to restart the kernel to use updated packages.Collecting clang~=5.0\n",
      "  Using cached clang-5.0-py3-none-any.whl\n",
      "Collecting protobuf>=3.9.2\n",
      "  Using cached protobuf-3.19.6-cp36-cp36m-win_amd64.whl (897 kB)\n",
      "Collecting cached-property\n",
      "  Using cached cached_property-1.5.2-py2.py3-none-any.whl (7.6 kB)\n",
      "Collecting markdown>=2.6.8\n",
      "  Using cached Markdown-3.3.7-py3-none-any.whl (97 kB)\n",
      "Requirement already satisfied: setuptools>=41.0.0 in c:\\users\\nexgen\\anaconda3\\envs\\machinelearning\\lib\\site-packages (from tensorboard<2.7,>=2.6.0->tensorflow) (58.0.4)\n",
      "Collecting tensorboard-plugin-wit>=1.6.0\n",
      "  Using cached tensorboard_plugin_wit-1.8.1-py3-none-any.whl (781 kB)\n",
      "Collecting werkzeug>=0.11.15\n",
      "  Using cached Werkzeug-2.0.3-py3-none-any.whl (289 kB)\n",
      "Collecting google-auth<2,>=1.6.3\n",
      "  Using cached google_auth-1.35.0-py2.py3-none-any.whl (152 kB)\n",
      "\n",
      "Collecting google-auth-oauthlib<0.5,>=0.4.1\n",
      "  Using cached google_auth_oauthlib-0.4.6-py2.py3-none-any.whl (18 kB)\n",
      "Requirement already satisfied: requests<3,>=2.21.0 in c:\\users\\nexgen\\anaconda3\\envs\\machinelearning\\lib\\site-packages (from tensorboard<2.7,>=2.6.0->tensorflow) (2.27.1)\n",
      "Collecting tensorboard-data-server<0.7.0,>=0.6.0\n",
      "  Using cached tensorboard_data_server-0.6.1-py3-none-any.whl (2.4 kB)\n",
      "Collecting pyasn1-modules>=0.2.1\n",
      "  Using cached pyasn1_modules-0.3.0-py2.py3-none-any.whl (181 kB)\n",
      "Collecting rsa<5,>=3.1.4\n",
      "  Using cached rsa-4.9-py3-none-any.whl (34 kB)\n",
      "Collecting cachetools<5.0,>=2.0.0\n",
      "  Using cached cachetools-4.2.4-py3-none-any.whl (10 kB)\n",
      "Collecting requests-oauthlib>=0.7.0\n",
      "  Using cached requests_oauthlib-2.0.0-py2.py3-none-any.whl (24 kB)\n",
      "Requirement already satisfied: importlib-metadata>=4.4 in c:\\users\\nexgen\\anaconda3\\envs\\machinelearning\\lib\\site-packages (from markdown>=2.6.8->tensorboard<2.7,>=2.6.0->tensorflow) (4.8.1)\n",
      "Requirement already satisfied: zipp>=0.5 in c:\\users\\nexgen\\anaconda3\\envs\\machinelearning\\lib\\site-packages (from importlib-metadata>=4.4->markdown>=2.6.8->tensorboard<2.7,>=2.6.0->tensorflow) (3.6.0)\n",
      "Collecting pyasn1<0.6.0,>=0.4.6\n",
      "  Using cached pyasn1-0.5.1-py2.py3-none-any.whl (84 kB)\n",
      "Requirement already satisfied: charset-normalizer~=2.0.0 in c:\\users\\nexgen\\anaconda3\\envs\\machinelearning\\lib\\site-packages (from requests<3,>=2.21.0->tensorboard<2.7,>=2.6.0->tensorflow) (2.0.12)\n",
      "Requirement already satisfied: urllib3<1.27,>=1.21.1 in c:\\users\\nexgen\\anaconda3\\envs\\machinelearning\\lib\\site-packages (from requests<3,>=2.21.0->tensorboard<2.7,>=2.6.0->tensorflow) (1.26.18)\n",
      "Requirement already satisfied: idna<4,>=2.5 in c:\\users\\nexgen\\anaconda3\\envs\\machinelearning\\lib\\site-packages (from requests<3,>=2.21.0->tensorboard<2.7,>=2.6.0->tensorflow) (3.7)\n",
      "Requirement already satisfied: certifi>=2017.4.17 in c:\\users\\nexgen\\anaconda3\\envs\\machinelearning\\lib\\site-packages (from requests<3,>=2.21.0->tensorboard<2.7,>=2.6.0->tensorflow) (2021.5.30)\n",
      "Collecting oauthlib>=3.0.0\n",
      "  Using cached oauthlib-3.2.2-py3-none-any.whl (151 kB)\n",
      "Requirement already satisfied: dataclasses in c:\\users\\nexgen\\anaconda3\\envs\\machinelearning\\lib\\site-packages (from werkzeug>=0.11.15->tensorboard<2.7,>=2.6.0->tensorflow) (0.8)\n",
      "Installing collected packages: pyasn1, typing-extensions, six, rsa, pyasn1-modules, oauthlib, cachetools, requests-oauthlib, google-auth, werkzeug, tensorboard-plugin-wit, tensorboard-data-server, protobuf, markdown, grpcio, google-auth-oauthlib, cached-property, absl-py, wrapt, termcolor, tensorflow-estimator, tensorboard, opt-einsum, keras-preprocessing, keras, h5py, google-pasta, gast, flatbuffers, clang, astunparse, tensorflow\n",
      "  Attempting uninstall: typing-extensions\n",
      "    Found existing installation: typing-extensions 4.1.1\n",
      "    Uninstalling typing-extensions-4.1.1:\n",
      "      Successfully uninstalled typing-extensions-4.1.1\n",
      "  Attempting uninstall: six\n",
      "    Found existing installation: six 1.16.0\n",
      "    Uninstalling six-1.16.0:\n",
      "      Successfully uninstalled six-1.16.0\n",
      "Successfully installed absl-py-0.15.0 astunparse-1.6.3 cached-property-1.5.2 cachetools-4.2.4 clang-5.0 flatbuffers-1.12 gast-0.4.0 google-auth-1.35.0 google-auth-oauthlib-0.4.6 google-pasta-0.2.0 grpcio-1.48.2 h5py-3.1.0 keras-2.6.0 keras-preprocessing-1.1.2 markdown-3.3.7 oauthlib-3.2.2 opt-einsum-3.3.0 protobuf-3.19.6 pyasn1-0.5.1 pyasn1-modules-0.3.0 requests-oauthlib-2.0.0 rsa-4.9 six-1.15.0 tensorboard-2.6.0 tensorboard-data-server-0.6.1 tensorboard-plugin-wit-1.8.1 tensorflow-2.6.2 tensorflow-estimator-2.6.0 termcolor-1.1.0 typing-extensions-3.7.4.3 werkzeug-2.0.3 wrapt-1.12.1\n"
     ]
    }
   ],
   "source": [
    "pip install tensorflow"
   ]
  },
  {
   "cell_type": "code",
   "execution_count": 52,
   "metadata": {
    "metadata": {}
   },
   "outputs": [],
   "source": [
    "import tensorflow"
   ]
  },
  {
   "cell_type": "code",
   "execution_count": 56,
   "metadata": {
    "metadata": {}
   },
   "outputs": [],
   "source": [
    "import keras\n",
    "from tensorflow.keras import Sequential\n",
    "from tensorflow.keras.layers import Dense"
   ]
  },
  {
   "cell_type": "code",
   "execution_count": 91,
   "metadata": {
    "metadata": {}
   },
   "outputs": [],
   "source": [
    "model=Sequential()\n",
    "model.add(Dense(20,activation='relu', input_dim= 11))\n",
    "model.add(Dense(10,activation='relu', ))\n",
    "model.add(Dense(1,activation='sigmoid', ))"
   ]
  },
  {
   "cell_type": "code",
   "execution_count": 92,
   "metadata": {
    "metadata": {}
   },
   "outputs": [
    {
     "name": "stdout",
     "output_type": "stream",
     "text": [
      "Model: \"sequential_5\"\n",
      "_________________________________________________________________\n",
      "Layer (type)                 Output Shape              Param #   \n",
      "=================================================================\n",
      "dense_11 (Dense)             (None, 20)                240       \n",
      "_________________________________________________________________\n",
      "dense_12 (Dense)             (None, 10)                210       \n",
      "_________________________________________________________________\n",
      "dense_13 (Dense)             (None, 1)                 11        \n",
      "=================================================================\n",
      "Total params: 461\n",
      "Trainable params: 461\n",
      "Non-trainable params: 0\n",
      "_________________________________________________________________\n"
     ]
    }
   ],
   "source": [
    "model.summary()"
   ]
  },
  {
   "cell_type": "code",
   "execution_count": 94,
   "metadata": {
    "metadata": {}
   },
   "outputs": [
    {
     "name": "stdout",
     "output_type": "stream",
     "text": [
      "Epoch 1/20\n",
      "200/200 [==============================] - 1s 3ms/step - loss: 19.0385 - val_loss: 14.1246\n",
      "Epoch 2/20\n",
      "200/200 [==============================] - 0s 2ms/step - loss: 14.8132 - val_loss: 12.6897\n",
      "Epoch 3/20\n",
      "200/200 [==============================] - 0s 2ms/step - loss: 16.8566 - val_loss: 16.4469\n",
      "Epoch 4/20\n",
      "200/200 [==============================] - 0s 2ms/step - loss: 16.4417 - val_loss: 6.2530\n",
      "Epoch 5/20\n",
      "200/200 [==============================] - 0s 2ms/step - loss: 11.9626 - val_loss: 12.4452\n",
      "Epoch 6/20\n",
      "200/200 [==============================] - 0s 2ms/step - loss: 12.1525 - val_loss: 7.1725\n",
      "Epoch 7/20\n",
      "200/200 [==============================] - 0s 2ms/step - loss: 8.8832 - val_loss: 17.6447\n",
      "Epoch 8/20\n",
      "200/200 [==============================] - 0s 2ms/step - loss: 10.5388 - val_loss: 6.7819\n",
      "Epoch 9/20\n",
      "200/200 [==============================] - 0s 2ms/step - loss: 10.3181 - val_loss: 4.9398\n",
      "Epoch 10/20\n",
      "200/200 [==============================] - 0s 2ms/step - loss: 9.0603 - val_loss: 19.7123\n",
      "Epoch 11/20\n",
      "200/200 [==============================] - 0s 2ms/step - loss: 15.0724 - val_loss: 11.5028\n",
      "Epoch 12/20\n",
      "200/200 [==============================] - 0s 2ms/step - loss: 8.9490 - val_loss: 21.9558\n",
      "Epoch 13/20\n",
      "200/200 [==============================] - 1s 3ms/step - loss: 11.9960 - val_loss: 5.0602\n",
      "Epoch 14/20\n",
      "200/200 [==============================] - 0s 1ms/step - loss: 10.6703 - val_loss: 13.4488\n",
      "Epoch 15/20\n",
      "200/200 [==============================] - 0s 2ms/step - loss: 8.3851 - val_loss: 8.6848\n",
      "Epoch 16/20\n",
      "200/200 [==============================] - 0s 2ms/step - loss: 9.0798 - val_loss: 4.7461\n",
      "Epoch 17/20\n",
      "200/200 [==============================] - 0s 2ms/step - loss: 10.5603 - val_loss: 32.7529\n",
      "Epoch 18/20\n",
      "200/200 [==============================] - 0s 2ms/step - loss: 12.3239 - val_loss: 24.3941\n",
      "Epoch 19/20\n",
      "200/200 [==============================] - 1s 5ms/step - loss: 8.3987 - val_loss: 4.1276\n",
      "Epoch 20/20\n",
      "200/200 [==============================] - 2s 8ms/step - loss: 9.0281 - val_loss: 12.2496\n"
     ]
    },
    {
     "data": {
      "text/plain": [
       "<keras.callbacks.History at 0x1fe20de1ba8>"
      ]
     },
     "execution_count": 94,
     "metadata": {},
     "output_type": "execute_result"
    }
   ],
   "source": [
    "model.compile(loss='binary_crossentropy', optimizer='Adam')\n",
    "model.fit(x_train,y_train,epochs=20 , validation_split=.2)"
   ]
  },
  {
   "cell_type": "code",
   "execution_count": 95,
   "metadata": {
    "metadata": {}
   },
   "outputs": [
    {
     "data": {
      "text/plain": [
       "[array([[ 2.86463797e-01, -2.41643161e-01,  3.86544056e-02,\n",
       "         -2.30603203e-01, -3.51860344e-01, -1.12629076e-02,\n",
       "          1.60077170e-01, -3.96119952e-02,  1.62734449e-01,\n",
       "         -3.39436233e-01,  2.27905530e-02,  2.43747234e-01,\n",
       "         -1.23284519e-01,  3.76359940e-01, -5.62964737e-01,\n",
       "          3.02690953e-01, -1.95825100e-01, -2.02138778e-02,\n",
       "         -1.21903986e-01,  1.22022204e-01],\n",
       "        [ 4.04518470e-02,  2.98750460e-01, -1.08016646e+00,\n",
       "         -6.57435298e-01, -8.58269632e-01,  8.35328177e-02,\n",
       "          4.69108969e-01,  4.19948101e-01, -3.17899957e-02,\n",
       "         -4.65030611e-01,  1.03260294e-01, -7.45346606e-01,\n",
       "         -7.39686310e-01,  2.92767376e-01,  2.18248338e-01,\n",
       "         -3.15745592e-01,  8.52172554e-01, -5.27845649e-03,\n",
       "          8.24412346e-01, -2.17535779e-01],\n",
       "        [ 4.85718325e-02, -2.72157699e-01,  2.21469551e-01,\n",
       "         -1.57118961e-02, -1.96662337e-01,  1.65800825e-02,\n",
       "         -2.03015909e-01,  1.73171520e-01,  2.68907636e-01,\n",
       "         -9.66987982e-02,  2.86525246e-02, -4.88100708e-01,\n",
       "         -2.77999133e-01, -2.17456877e-01, -7.85966143e-02,\n",
       "          1.55095488e-01,  1.71517178e-01,  2.02765435e-01,\n",
       "          1.95544526e-01,  3.33999574e-01],\n",
       "        [-1.24095589e-01, -1.68532915e-02,  2.62017190e-01,\n",
       "         -4.36586887e-01,  1.22146197e-01,  8.07952806e-02,\n",
       "          4.68576476e-02, -6.21214211e-02, -1.12178385e-01,\n",
       "          2.58939285e-02,  2.03444548e-02,  2.60546505e-01,\n",
       "         -1.01584442e-01, -8.85836482e-02,  1.70538444e-02,\n",
       "         -3.58235657e-01,  4.60750125e-02, -1.23994216e-01,\n",
       "          2.92627722e-01, -7.22982883e-02],\n",
       "        [-3.47247571e-01, -1.22660957e-01,  2.74713486e-02,\n",
       "          5.85394323e-01, -6.47594333e-01, -2.27129772e-01,\n",
       "         -3.75948071e-01, -3.93191576e-01, -5.05047858e-01,\n",
       "          1.26386181e-01,  5.27021170e-01, -8.88484597e-01,\n",
       "          3.27333540e-01, -2.57465187e-02, -2.68614233e-01,\n",
       "          8.76468897e-01,  3.01348805e-01, -2.20596697e-02,\n",
       "          7.17451930e-01, -3.05754721e-01],\n",
       "        [-4.15318161e-01,  1.74851120e-01, -3.98973018e-01,\n",
       "          3.35861407e-02,  1.85851082e-01, -5.68467915e-01,\n",
       "         -3.61053675e-01, -8.61034095e-02,  2.66595006e-01,\n",
       "          1.58627421e-01,  2.66643763e-01,  4.82744947e-02,\n",
       "          1.61246747e-01, -3.82663488e-01,  1.89104564e-02,\n",
       "          8.61719698e-02,  4.17992711e-01, -3.33646804e-01,\n",
       "          3.54456976e-02, -2.00773105e-01],\n",
       "        [-1.64465654e+00, -1.46017253e+00,  1.64551640e+00,\n",
       "          4.37068552e-01,  5.81420541e-01, -6.20166838e-01,\n",
       "         -1.75762367e+00,  2.67316401e-01,  3.84684861e-01,\n",
       "          1.53653324e+00,  1.35579497e-01,  1.35713768e+00,\n",
       "          7.92587757e-01,  1.27757370e+00, -6.02205276e-01,\n",
       "          1.59401321e+00, -1.13737011e+00, -4.42872584e-01,\n",
       "         -1.60308790e+00,  5.72373569e-01],\n",
       "        [-5.67520782e-02,  1.62075147e-01, -8.10376275e-03,\n",
       "          1.11198418e-01, -2.94178814e-01, -2.73053318e-01,\n",
       "          1.69113092e-02, -2.15417176e-01, -2.29355216e-01,\n",
       "          6.90114871e-02, -3.08747590e-01, -8.65618661e-02,\n",
       "         -1.51189207e-03, -3.15041274e-01, -1.71352297e-01,\n",
       "          1.79894015e-01, -1.50447041e-02, -5.57949767e-04,\n",
       "         -1.48479939e-01, -1.77328825e-01],\n",
       "        [ 1.06202662e-01,  1.31771708e+00, -1.89347541e+00,\n",
       "         -7.54427075e-01, -5.37614822e-01,  6.42336726e-01,\n",
       "          1.41103864e+00, -2.85042465e-01, -4.17357951e-01,\n",
       "         -7.88116395e-01, -4.26722407e-01, -2.04081059e+00,\n",
       "          3.13739270e-01, -2.76034355e-01, -4.29127067e-02,\n",
       "          4.35020447e-01,  1.67583346e+00, -3.01554739e-01,\n",
       "          1.96915364e+00,  4.34470475e-01],\n",
       "        [ 6.17879331e-01, -3.92865688e-01,  5.60301185e-01,\n",
       "          2.04691693e-01,  1.27855673e-01, -8.01281273e-01,\n",
       "         -2.57753074e-01, -2.16384694e-01, -3.51631433e-01,\n",
       "          3.74758810e-01,  3.74090374e-01,  2.91095257e-01,\n",
       "          3.16893041e-01, -1.32511392e-01, -3.39291364e-01,\n",
       "         -2.64769029e-02, -3.26385528e-01,  7.95057788e-02,\n",
       "         -7.06723988e-01, -4.79957253e-01],\n",
       "        [ 2.82302409e-01, -1.54137397e+00,  9.93793011e-01,\n",
       "          5.00666261e-01, -6.45946115e-02, -1.00527763e+00,\n",
       "         -8.67765725e-01, -2.88750231e-02, -2.06667036e-01,\n",
       "          1.30505705e+00,  4.83121991e-01,  8.47535610e-01,\n",
       "          1.01320112e+00, -7.47407138e-01, -1.64788187e-01,\n",
       "          7.33719468e-01, -7.94439256e-01, -8.25499356e-01,\n",
       "         -1.24044609e+00, -3.69236320e-01]], dtype=float32),\n",
       " array([-0.09220964, -0.08420284, -0.06266233,  0.06623773, -0.21757074,\n",
       "        -0.24861914, -0.00953789,  0.        , -0.11152145, -0.04768896,\n",
       "         0.02829635, -0.07836831,  0.06305498, -0.05955965, -0.18143822,\n",
       "         0.08639828,  0.10586221, -0.07717077,  0.12394007, -0.05246236],\n",
       "       dtype=float32)]"
      ]
     },
     "execution_count": 95,
     "metadata": {},
     "output_type": "execute_result"
    }
   ],
   "source": [
    "model.layers[0].get_weights()"
   ]
  },
  {
   "cell_type": "code",
   "execution_count": 96,
   "metadata": {
    "metadata": {}
   },
   "outputs": [],
   "source": [
    "yda=model.predict(x_test_scaled)"
   ]
  },
  {
   "cell_type": "code",
   "execution_count": 97,
   "metadata": {
    "metadata": {}
   },
   "outputs": [],
   "source": [
    "y_pred=np.where( yda>.5,1,0)"
   ]
  },
  {
   "cell_type": "code",
   "execution_count": 98,
   "metadata": {
    "metadata": {}
   },
   "outputs": [],
   "source": [
    "from sklearn.metrics import accuracy_score"
   ]
  },
  {
   "cell_type": "code",
   "execution_count": 99,
   "metadata": {
    "metadata": {}
   },
   "outputs": [
    {
     "data": {
      "text/plain": [
       "0.728"
      ]
     },
     "execution_count": 99,
     "metadata": {},
     "output_type": "execute_result"
    }
   ],
   "source": [
    "accuracy_score(y_test,y_pred)"
   ]
  }
 ],
 "metadata": {
  "kernelspec": {
   "display_name": "machineLearning",
   "language": "python",
   "name": "python3"
  },
  "language_info": {
   "codemirror_mode": {
    "name": "ipython",
    "version": 3
   },
   "file_extension": ".py",
   "mimetype": "text/x-python",
   "name": "python",
   "nbconvert_exporter": "python",
   "pygments_lexer": "ipython3",
   "version": "3.6.13"
  }
 },
 "nbformat": 4,
 "nbformat_minor": 2
}
